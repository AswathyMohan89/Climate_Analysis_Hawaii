{
 "cells": [
  {
   "cell_type": "markdown",
   "metadata": {},
   "source": [
    "## Climate Analysis and Exploration"
   ]
  },
  {
   "cell_type": "code",
   "execution_count": 1,
   "metadata": {
    "collapsed": true
   },
   "outputs": [],
   "source": [
    "#Import  Python SQL toolkit and Object Relational Mapper\n",
    "import sqlalchemy\n",
    "from sqlalchemy.ext.automap import automap_base\n",
    "from sqlalchemy.orm import Session\n",
    "from sqlalchemy import create_engine\n",
    "from sqlalchemy import Column, Integer, String, Float, ForeignKey,func\n",
    "import numpy as np\n",
    "import pandas as pd\n",
    "import matplotlib.pyplot as plt\n",
    "import seaborn as sns\n",
    "import random\n",
    "import os"
   ]
  },
  {
   "cell_type": "code",
   "execution_count": 2,
   "metadata": {
    "collapsed": true
   },
   "outputs": [],
   "source": [
    "#create engine and connections\n",
    "engine = create_engine(os.path.join(\"sqlite:///\",\"..\",\"Resources\",\"hawaii.db\"),echo=False)\n",
    "conn = engine.connect()"
   ]
  },
  {
   "cell_type": "code",
   "execution_count": 3,
   "metadata": {},
   "outputs": [
    {
     "data": {
      "text/plain": [
       "['Measurements', 'Stations']"
      ]
     },
     "execution_count": 3,
     "metadata": {},
     "output_type": "execute_result"
    }
   ],
   "source": [
    "#create base class instance for reflecting the class\n",
    "Base = automap_base()\n",
    "# Use the Base class to reflect the database tables\n",
    "Base.prepare(engine, reflect=True)\n",
    "# Print all of the classes mapped to the Base\n",
    "Base.classes.keys()\n",
    "\n"
   ]
  },
  {
   "cell_type": "code",
   "execution_count": 4,
   "metadata": {
    "collapsed": true
   },
   "outputs": [],
   "source": [
    "#set the classes to variables\n",
    "measurements = Base.classes.Measurements\n",
    "stations= Base.classes.Stations"
   ]
  },
  {
   "cell_type": "code",
   "execution_count": 5,
   "metadata": {
    "collapsed": true
   },
   "outputs": [],
   "source": [
    "#create session\n",
    "session = Session(engine)"
   ]
  },
  {
   "cell_type": "code",
   "execution_count": 6,
   "metadata": {},
   "outputs": [
    {
     "data": {
      "text/plain": [
       "{'_sa_instance_state': <sqlalchemy.orm.state.InstanceState at 0x278f0ff75f8>,\n",
       " 'date': '2010-01-01',\n",
       " 'id': 1,\n",
       " 'prcp': 0.08,\n",
       " 'station': 'USC00519397',\n",
       " 'tobs': 65}"
      ]
     },
     "execution_count": 6,
     "metadata": {},
     "output_type": "execute_result"
    }
   ],
   "source": [
    "#display the table\n",
    "first_row = session.query(measurements).first()\n",
    "first_row.__dict__"
   ]
  },
  {
   "cell_type": "code",
   "execution_count": 7,
   "metadata": {},
   "outputs": [
    {
     "data": {
      "text/plain": [
       "{'_sa_instance_state': <sqlalchemy.orm.state.InstanceState at 0x278f1005240>,\n",
       " 'elevation': 3.0,\n",
       " 'id': 1,\n",
       " 'latitude': 21.2716,\n",
       " 'longitude': -157.8168,\n",
       " 'name': 'WAIKIKI 717.2, HI US',\n",
       " 'station': 'USC00519397'}"
      ]
     },
     "execution_count": 7,
     "metadata": {},
     "output_type": "execute_result"
    }
   ],
   "source": [
    "#display the table\n",
    "first_row = session.query(stations).first()\n",
    "first_row.__dict__"
   ]
  },
  {
   "cell_type": "markdown",
   "metadata": {},
   "source": [
    "### Precipitation Analysis"
   ]
  },
  {
   "cell_type": "code",
   "execution_count": 8,
   "metadata": {},
   "outputs": [
    {
     "name": "stdout",
     "output_type": "stream",
     "text": [
      "2016-08-23\n"
     ]
    }
   ],
   "source": [
    "#select max date from measurements and extract month from it. subtract 1 from year. retreive value of that year\n",
    "result = session.execute(\"SELECT max(date) FROM measurements order by date \").first()\n",
    "new_d=result[0]\n",
    "month=new_d.split(\"-\")[1]\n",
    "date=new_d.split(\"-\")[2]\n",
    "year=new_d.split(\"-\")[0]\n",
    "y=int(year)-1\n",
    "new_date=str(y)+\"-\"+month+\"-\"+date\n",
    "print(new_date)\n"
   ]
  },
  {
   "cell_type": "code",
   "execution_count": 9,
   "metadata": {},
   "outputs": [
    {
     "name": "stdout",
     "output_type": "stream",
     "text": [
      "SELECT \"Stations\".name AS \"Stations_name\", \"Measurements\".date AS \"Measurements_date\", \"Measurements\".prcp AS \"Measurements_prcp\" \n",
      "FROM \"Stations\", \"Measurements\" \n",
      "WHERE \"Measurements\".date >= ? ORDER BY \"Measurements\".date\n"
     ]
    }
   ],
   "source": [
    "#create the query to retreive prcp for previous 12 months\n",
    "precip_qry = session.query(stations.name,measurements.date, measurements.prcp).filter(measurements.date>=new_date).order_by(measurements.date)\n",
    "print(precip_qry)"
   ]
  },
  {
   "cell_type": "code",
   "execution_count": 10,
   "metadata": {},
   "outputs": [
    {
     "data": {
      "text/html": [
       "<div>\n",
       "<style>\n",
       "    .dataframe thead tr:only-child th {\n",
       "        text-align: right;\n",
       "    }\n",
       "\n",
       "    .dataframe thead th {\n",
       "        text-align: left;\n",
       "    }\n",
       "\n",
       "    .dataframe tbody tr th {\n",
       "        vertical-align: top;\n",
       "    }\n",
       "</style>\n",
       "<table border=\"1\" class=\"dataframe\">\n",
       "  <thead>\n",
       "    <tr style=\"text-align: right;\">\n",
       "      <th></th>\n",
       "      <th>prcp</th>\n",
       "    </tr>\n",
       "  </thead>\n",
       "  <tbody>\n",
       "    <tr>\n",
       "      <th>count</th>\n",
       "      <td>20070.000000</td>\n",
       "    </tr>\n",
       "    <tr>\n",
       "      <th>mean</th>\n",
       "      <td>0.175720</td>\n",
       "    </tr>\n",
       "    <tr>\n",
       "      <th>std</th>\n",
       "      <td>0.438975</td>\n",
       "    </tr>\n",
       "    <tr>\n",
       "      <th>min</th>\n",
       "      <td>0.000000</td>\n",
       "    </tr>\n",
       "    <tr>\n",
       "      <th>25%</th>\n",
       "      <td>0.000000</td>\n",
       "    </tr>\n",
       "    <tr>\n",
       "      <th>50%</th>\n",
       "      <td>0.030000</td>\n",
       "    </tr>\n",
       "    <tr>\n",
       "      <th>75%</th>\n",
       "      <td>0.160644</td>\n",
       "    </tr>\n",
       "    <tr>\n",
       "      <th>max</th>\n",
       "      <td>6.700000</td>\n",
       "    </tr>\n",
       "  </tbody>\n",
       "</table>\n",
       "</div>"
      ],
      "text/plain": [
       "               prcp\n",
       "count  20070.000000\n",
       "mean       0.175720\n",
       "std        0.438975\n",
       "min        0.000000\n",
       "25%        0.000000\n",
       "50%        0.030000\n",
       "75%        0.160644\n",
       "max        6.700000"
      ]
     },
     "execution_count": 10,
     "metadata": {},
     "output_type": "execute_result"
    }
   ],
   "source": [
    "#create df from query and calculate the statistics\n",
    "precip_df = pd.read_sql(precip_qry.statement, precip_qry.session.bind)\n",
    "precip_df.describe()"
   ]
  },
  {
   "cell_type": "code",
   "execution_count": 11,
   "metadata": {
    "collapsed": true
   },
   "outputs": [],
   "source": [
    "#set the index of df as date\n",
    "new_precip_df=precip_df.set_index(\"date\")\n"
   ]
  },
  {
   "cell_type": "code",
   "execution_count": 12,
   "metadata": {},
   "outputs": [
    {
     "data": {
      "text/plain": [
       "<matplotlib.figure.Figure at 0x278f152a668>"
      ]
     },
     "metadata": {},
     "output_type": "display_data"
    },
    {
     "data": {
      "image/png": "[encoded data removed]",
      "text/plain": [
       "<matplotlib.figure.Figure at 0x278f152ad68>"
      ]
     },
     "metadata": {},
     "output_type": "display_data"
    }
   ],
   "source": [
    "#plot thr graph\n",
    "plt.figure(figsize=(20,10))\n",
    "new_precip_df.plot(rot=45,alpha=0.75)\n",
    "plt.ylabel('Precipitation in inches')\n",
    "plt.xlabel(\"date\")\n",
    "plt.title(\"Precipitation from \"+ str(new_precip_df.index.min())+ \" to \"+ str(new_precip_df.index.max()))\n",
    "plt.savefig(\"../images/Precipitation from \"+ str(new_precip_df.index.min())+ \" to \"+ str(new_precip_df.index.max()))\n",
    "plt.show()\n",
    "\n"
   ]
  },
  {
   "cell_type": "markdown",
   "metadata": {},
   "source": [
    "### Station Analysis\n"
   ]
  },
  {
   "cell_type": "code",
   "execution_count": 13,
   "metadata": {},
   "outputs": [
    {
     "name": "stdout",
     "output_type": "stream",
     "text": [
      "No .of Stations:  9\n"
     ]
    }
   ],
   "source": [
    "#calculate the stations\n",
    "result = session.execute(\"SELECT  distinct station FROM measurements \").fetchall()\n",
    "print(\"No .of Stations: \" ,len(result))"
   ]
  },
  {
   "cell_type": "code",
   "execution_count": 14,
   "metadata": {},
   "outputs": [
    {
     "name": "stdout",
     "output_type": "stream",
     "text": [
      "Station with Highest Observations is WAIHEE 837.5, HI US with 2772 observations \n"
     ]
    }
   ],
   "source": [
    "#calculate the station with highest observations\n",
    "result = session.execute(\"SELECT m.station, s.name, count(m.tobs) FROM measurements m inner join stations s where m.station=s.station group by s.station order by count(m.tobs) desc\").first()\n",
    "print(\"Station with Highest Observations is %s with %s observations \" %(result[1],result[2]))"
   ]
  },
  {
   "cell_type": "code",
   "execution_count": 15,
   "metadata": {},
   "outputs": [
    {
     "name": "stdout",
     "output_type": "stream",
     "text": [
      "SELECT \"Measurements\".tobs AS \"Measurements_tobs\", \"Measurements\".station AS \"Measurements_station\" \n",
      "FROM \"Measurements\" \n",
      "WHERE \"Measurements\".date >= ? AND \"Measurements\".station = ? ORDER BY \"Measurements\".date\n"
     ]
    }
   ],
   "source": [
    "#retrieve the data of station with highest observations\n",
    "station_qry = session.query(measurements.tobs, measurements.station).filter(measurements.date>=new_date).filter(measurements.station==result[0]).order_by(measurements.date)\n",
    "print(station_qry)"
   ]
  },
  {
   "cell_type": "code",
   "execution_count": 16,
   "metadata": {},
   "outputs": [
    {
     "ename": "SyntaxError",
     "evalue": "unexpected character after line continuation character (<ipython-input-16-648632dd4be5>, line 2)",
     "output_type": "error",
     "traceback": [
      "\u001b[1;36m  File \u001b[1;32m\"<ipython-input-16-648632dd4be5>\"\u001b[1;36m, line \u001b[1;32m2\u001b[0m\n\u001b[1;33m    \\station_df = pd.read_sql(station_qry.statement, station_qry.session.bind)\u001b[0m\n\u001b[1;37m                                                                              ^\u001b[0m\n\u001b[1;31mSyntaxError\u001b[0m\u001b[1;31m:\u001b[0m unexpected character after line continuation character\n"
     ]
    }
   ],
   "source": [
    "#save to df\n",
    "\\station_df = pd.read_sql(station_qry.statement, station_qry.session.bind)\n",
    "station_df.head()"
   ]
  },
  {
   "cell_type": "code",
   "execution_count": null,
   "metadata": {},
   "outputs": [],
   "source": [
    "#plot histogram\n",
    "plt.hist(station_df[\"tobs\"], normed=True, bins=12)\n",
    "plt.ylabel(\"Frequency\")\n",
    "plt.xlabel(\"Temperature\")\n",
    "plt.title(\"Observed Temperatures \"+ str(new_precip_df.index.min()))\n",
    "plt.savefig(\"../images/Observed Temperatures \"+ str(new_precip_df.index.min()))\n",
    "plt.show()"
   ]
  },
  {
   "cell_type": "markdown",
   "metadata": {},
   "source": [
    "### Temperature Analysis"
   ]
  },
  {
   "cell_type": "code",
   "execution_count": null,
   "metadata": {
    "collapsed": true
   },
   "outputs": [],
   "source": [
    "#create a function for analysis temprature during travel \n",
    "def calc_temps(startdate_oftravel,enddate_oftravel):\n",
    "    temp_qry = session.query(measurements.date, measurements.tobs).filter(measurements.date.between(startdate_oftravel,enddate_oftravel)).order_by(measurements.date)\n",
    "    temp_df = pd.read_sql(temp_qry.statement, temp_qry.session.bind)\n",
    "    max_temp=temp_df[\"tobs\"].max()\n",
    "    min_temp=temp_df[\"tobs\"].min()\n",
    "    avg_temp=temp_df[\"tobs\"].mean()\n",
    "    #return maximum minimum and avg temp during trip\n",
    "    return min_temp,max_temp,avg_temp"
   ]
  },
  {
   "cell_type": "code",
   "execution_count": null,
   "metadata": {},
   "outputs": [],
   "source": [
    "#inout start date and end date\n",
    "start_date=input(\"Enter Start date of trip in %Y-%m-%d format\")\n",
    "end_date=input(\"Enter End  date of trip in %Y-%m-%d format\")\n",
    "\n",
    "temp=calc_temps(start_date,end_date)\n",
    "#calculate temp for matching dates in previous year\n",
    "prev_startdate=str(int(start_date.split(\"-\")[0])-1)+\"-\"+start_date.split(\"-\")[1]+\"-\"+start_date.split(\"-\")[2]\n",
    "prev_enddate=str(int(end_date.split(\"-\")[0])-1)+\"-\"+end_date.split(\"-\")[1]+\"-\"+end_date.split(\"-\")[2]\n",
    "\n",
    "prev_temp=calc_temps(prev_startdate,prev_enddate)\n",
    "\n",
    "temp1=calc_temps('2016-05-01','2016-05-14')\n",
    "print(\"==============================================================\")\n",
    "print(\"Temprature statistics from \" + start_date +\" to \" + end_date)\n",
    "print(\"Maximum Temprature: \"+ str(temp[1]))\n",
    "print(\"Minimum Temprature: \"+ str(temp[0]))\n",
    "print(\"Average Temprature: \"+ str(temp[2]))\n",
    "print(\"==============================================================\")\n",
    "print(\"Temprature statistics from \" + prev_startdate +\" to \" + prev_enddate)\n",
    "print(\"Maximum Temprature: \"+ str(prev_temp[1]))\n",
    "print(\"Minimum Temprature: \"+ str(prev_temp[0]))\n",
    "print(\"Average Temprature: \"+ str(prev_temp[2]))\n"
   ]
  },
  {
   "cell_type": "code",
   "execution_count": null,
   "metadata": {},
   "outputs": [],
   "source": [
    "#Plot the graph \n",
    "plt.figure(figsize=(1,4))\n",
    "#set error value\n",
    "err=temp[1]-temp[0]\n",
    "x_axis = 0\n",
    "plt.bar(x_axis, temp[2], yerr=err,color=\"r\")\n",
    "plt.xticks([0])\n",
    "plt.ylabel(\"Temperature (F)\")\n",
    "plt.title(\"Trip Avg Temp from\" + start_date + \"to \" + end_date)\n",
    "frame = plt.gca()\n",
    "frame.axes.get_xaxis().set_visible(False)\n",
    "plt.savefig(\"../images/Trip Avg Temp from \"+ start_date + \"to \" + end_date)\n",
    "plt.show()"
   ]
  },
  {
   "cell_type": "markdown",
   "metadata": {},
   "source": [
    "### Rainfall"
   ]
  },
  {
   "cell_type": "code",
   "execution_count": null,
   "metadata": {},
   "outputs": [],
   "source": [
    "#calculate rainfall pre weather station\n",
    "rain_qry = session.query(measurements.station, func.sum(measurements.prcp).label(\"rainfall\")).\\\n",
    "                filter(measurements.date>=new_date).group_by(measurements.station)\n",
    "rain_df = pd.read_sql(rain_qry.statement, rain_qry.session.bind)\n",
    "rain_df"
   ]
  },
  {
   "cell_type": "code",
   "execution_count": null,
   "metadata": {
    "collapsed": true
   },
   "outputs": [],
   "source": [
    "#create function to calculate daily normals, that accept date in %m-%d format\n",
    "def daily_normals(d):\n",
    "    #extract tobs based on date\n",
    "    norm_qry = session.query(measurements.station,measurements.tobs).\\\n",
    "                filter(measurements.date.like(\"%-\" +d))\n",
    "    #create df from query and calculate normal values\n",
    "    \n",
    "    df = pd.read_sql(norm_qry.statement, norm_qry.session.bind)\n",
    "    max_temp=df[\"tobs\"].max()\n",
    "    min_temp=df[\"tobs\"].min()\n",
    "    avg_temp=df[\"tobs\"].mean()\n",
    "    \n",
    "    #return maximum minimum and avg temp during trip\n",
    "    return min_temp,max_temp,avg_temp"
   ]
  },
  {
   "cell_type": "code",
   "execution_count": null,
   "metadata": {},
   "outputs": [],
   "source": [
    "#enter start and dend date for the trip\n",
    "start_date=input(\"Enter Start date of trip in %Y-%m-%d format\")\n",
    "end_date=input(\"Enter End  date of trip in %Y-%m-%d format\")\n",
    "#create the trip dates using date_range()\n",
    "d=pd.date_range(start_date,end_date)\n",
    "#convert to %m-%d format\n",
    "d=d.strftime('%m-%d')"
   ]
  },
  {
   "cell_type": "code",
   "execution_count": null,
   "metadata": {},
   "outputs": [],
   "source": [
    "#for each date create a list of normal values\n",
    "norm_list=[]\n",
    "for each in d:\n",
    "    norm=daily_normals(str(each))\n",
    "    norm_list.append([each,norm[1],norm[0],norm[2]])\n",
    "\n",
    "labels=[\"Date\",\"Maximum Temp\",\"Min Temp\",\"Avg Temp\"]\n",
    "norm_df=pd.DataFrame(norm_list,columns=labels)\n",
    "norm_df=norm_df.set_index(\"Date\")\n",
    "norm_df"
   ]
  },
  {
   "cell_type": "code",
   "execution_count": null,
   "metadata": {},
   "outputs": [],
   "source": [
    "norm_df.plot.area(stacked=False)\n",
    "plt.title(\"Daily normals from \"+ start_date + \"to \" + end_date)\n",
    "plt.savefig(\"../images/Daily normals from \"+ start_date + \"to \" + end_date)\n",
    "plt.show()"
   ]
  },
  {
   "cell_type": "code",
   "execution_count": null,
   "metadata": {
    "collapsed": true
   },
   "outputs": [],
   "source": []
  }
 ],
 "metadata": {
  "kernelspec": {
   "display_name": "Python 3",
   "language": "python",
   "name": "python3"
  },
  "language_info": {
   "codemirror_mode": {
    "name": "ipython",
    "version": 3
   },
   "file_extension": ".py",
   "mimetype": "text/x-python",
   "name": "python",
   "nbconvert_exporter": "python",
   "pygments_lexer": "ipython3",
   "version": "3.6.3"
  }
 },
 "nbformat": 4,
 "nbformat_minor": 2
}
