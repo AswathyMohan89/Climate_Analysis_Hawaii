{
 "cells": [
  {
   "cell_type": "code",
   "execution_count": 1,
   "metadata": {
    "collapsed": true
   },
   "outputs": [],
   "source": [
    "from sqlalchemy import create_engine\n",
    "from sqlalchemy.ext.declarative import declarative_base\n",
    "from sqlalchemy import create_engine\n",
    "from sqlalchemy.orm import Session\n",
    "import pandas as pd\n",
    "import os\n",
    "# Allow us to declare column types\n",
    "from sqlalchemy import Column, Integer, String, Float,ForeignKey \n",
    "\n",
    "import pymysql\n",
    "pymysql.install_as_MySQLdb()"
   ]
  },
  {
   "cell_type": "code",
   "execution_count": 2,
   "metadata": {},
   "outputs": [
    {
     "name": "stdout",
     "output_type": "stream",
     "text": [
      "Completed File :..\\Resources\\clean_hawaii_measurements.csv\n",
      "Completed File :..\\Resources\\clean_hawaii_stations.csv\n"
     ]
    }
   ],
   "source": [
    "# Create the yearlist\n",
    "filename=[\"clean_hawaii_measurements\",\"clean_hawaii_stations\"]\n",
    "# Assign filename\n",
    "# Create a dictionary to stor dataframe for all years\n",
    "All_DF={}\n",
    "\n",
    "# Loop through each year\n",
    "for file in filename:\n",
    "    #create filename based on filename, year\n",
    "    file_name=file+\".csv\"\n",
    "    df_name=file.split(\"_\")[2]\n",
    "    #assign file path\n",
    "    filepath=os.path.join(\"..\",\"Resources\",file_name)\n",
    "    #store data frme to dictionary with years as key and dataframe as value\n",
    "    All_DF[df_name]=pd.read_csv(filepath,low_memory=False)\n",
    "    print(\"Completed File :\" + filepath)"
   ]
  },
  {
   "cell_type": "code",
   "execution_count": 3,
   "metadata": {
    "collapsed": true
   },
   "outputs": [],
   "source": [
    "Base=declarative_base()\n",
    "\n",
    "\n",
    "class Measurements(Base):\n",
    "    \n",
    "    __tablename__=\"Measurements\"\n",
    "    id=Column(Integer,primary_key=True)\n",
    "    station=Column(String(255))\n",
    "    date = Column(String(255))\n",
    "    prcp = Column(Float)\n",
    "    tobs = Column(Integer)\n",
    "    \n",
    "\n",
    "class Stations(Base):\n",
    "    \n",
    "    __tablename__=\"Stations\"\n",
    "    id=Column(Integer,primary_key=True)\n",
    "    station=Column(String(255))\n",
    "    name=Column(String(255))\n",
    "    \n",
    "    latitude = Column(Float)\n",
    "    longitude = Column(Float)\n",
    "    elevation=Column(Float)\n",
    "   \n"
   ]
  },
  {
   "cell_type": "code",
   "execution_count": 6,
   "metadata": {
    "collapsed": true
   },
   "outputs": [],
   "source": [
    "engine = create_engine(os.path.join(\"sqlite:///\",\"..\",\"Resources\",\"hawaii.db\"))\n",
    "#engine = create_engine('sqlite:///hawaii.db')\n",
    "\n",
    "\n",
    "conn = engine.connect()\n",
    "Base.metadata.create_all(conn)\n",
    "session = Session(bind=engine)"
   ]
  },
  {
   "cell_type": "code",
   "execution_count": 7,
   "metadata": {},
   "outputs": [],
   "source": [
    "\n",
    "All_DF[\"stations\"].to_sql('Stations',conn,if_exists = 'append',index = False)\n",
    "\n",
    "All_DF[\"measurements\"].to_sql('Measurements',conn,if_exists = 'append',index = False)\n",
    "session.commit()\n",
    "\n",
    "conn.close()"
   ]
  },
  {
   "cell_type": "code",
   "execution_count": null,
   "metadata": {
    "collapsed": true
   },
   "outputs": [],
   "source": []
  },
  {
   "cell_type": "code",
   "execution_count": null,
   "metadata": {
    "collapsed": true
   },
   "outputs": [],
   "source": []
  }
 ],
 "metadata": {
  "kernelspec": {
   "display_name": "Python 3",
   "language": "python",
   "name": "python3"
  },
  "language_info": {
   "codemirror_mode": {
    "name": "ipython",
    "version": 3
   },
   "file_extension": ".py",
   "mimetype": "text/x-python",
   "name": "python",
   "nbconvert_exporter": "python",
   "pygments_lexer": "ipython3",
   "version": "3.6.3"
  }
 },
 "nbformat": 4,
 "nbformat_minor": 2
}
