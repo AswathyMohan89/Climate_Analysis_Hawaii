{
 "cells": [
  {
   "cell_type": "markdown",
   "metadata": {},
   "source": [
    "#  Data Engineering"
   ]
  },
  {
   "cell_type": "code",
   "execution_count": 1,
   "metadata": {
    "collapsed": true
   },
   "outputs": [],
   "source": [
    "# Import Dependencies\n",
    "%matplotlib inline\n",
    "\n",
    "import numpy as np\n",
    "import pandas as pd\n",
    "\n",
    "import os\n",
    "\n",
    "import seaborn as sns\n",
    "import matplotlib.pyplot as plt"
   ]
  },
  {
   "cell_type": "code",
   "execution_count": 2,
   "metadata": {},
   "outputs": [
    {
     "name": "stdout",
     "output_type": "stream",
     "text": [
      "Completed File :..\\Resources\\hawaii_measurements.csv\n",
      "Completed File :..\\Resources\\hawaii_stations.csv\n"
     ]
    }
   ],
   "source": [
    "# Create the yearlist\n",
    "filename=[\"hawaii_measurements\",\"hawaii_stations\"]\n",
    "# Assign filename\n",
    "# Create a dictionary to stor dataframe for all years\n",
    "All_DF={}\n",
    "\n",
    "# Loop through each year\n",
    "for file in filename:\n",
    "    #create filename based on filename, year\n",
    "    file_name=file+\".csv\"\n",
    "    df_name=file.split(\"_\")[1]\n",
    "    #assign file path\n",
    "    filepath=os.path.join(\"..\",\"Resources\",file_name)\n",
    "    #store data frme to dictionary with years as key and dataframe as value\n",
    "    All_DF[df_name]=pd.read_csv(filepath,low_memory=False)\n",
    "    print(\"Completed File :\" + filepath)"
   ]
  },
  {
   "cell_type": "code",
   "execution_count": 5,
   "metadata": {},
   "outputs": [
    {
     "name": "stdout",
     "output_type": "stream",
     "text": [
      "Check for null values in hawaii_measurements  station       0\n",
      "date          0\n",
      "prcp       1447\n",
      "tobs          0\n",
      "dtype: int64\n",
      "Check for null values in hawaii_stations  station      0\n",
      "name         0\n",
      "latitude     0\n",
      "longitude    0\n",
      "elevation    0\n",
      "dtype: int64\n"
     ]
    }
   ],
   "source": [
    "#store hawaii measurements df\n",
    "hawaii_measurements=All_DF[\"measurements\"]\n",
    "print(\"Check for null values in hawaii_measurements \", hawaii_measurements.isnull().sum())\n",
    "hawaii_stations=All_DF[\"stations\"]\n",
    "print(\"Check for null values in hawaii_stations \", hawaii_stations.isnull().sum())"
   ]
  },
  {
   "cell_type": "code",
   "execution_count": 43,
   "metadata": {
    "collapsed": true
   },
   "outputs": [],
   "source": [
    "#fill the missing values with mean values of the corresponding columns\n",
    "clean_hawaii_measurements=hawaii_measurements.fillna(hawaii_measurements.prcp.mean())\n",
    "clean_hawaii_measurements.prcp.isnull().sum()\n",
    "#save to csv\n",
    "filepath=os.path.join(\"..\",\"Resources\",\"clean_hawaii_measurements.csv\")\n",
    "clean_hawaii_measurements.to_csv(filepath,index=False)\n"
   ]
  },
  {
   "cell_type": "code",
   "execution_count": 44,
   "metadata": {},
   "outputs": [
    {
     "name": "stdout",
     "output_type": "stream",
     "text": [
      "Measurements :\n",
      "        station        date      prcp  tobs\n",
      "0  USC00519397  2010-01-01  0.080000    65\n",
      "1  USC00519397  2010-01-02  0.000000    63\n",
      "2  USC00519397  2010-01-03  0.000000    74\n",
      "3  USC00519397  2010-01-04  0.000000    76\n",
      "4  USC00519397  2010-01-06  0.160644    73\n",
      "===============================================\n",
      "Station :\n",
      "        station                                    name  latitude  longitude  \\\n",
      "0  USC00519397                    WAIKIKI 717.2, HI US   21.2716  -157.8168   \n",
      "1  USC00513117                    KANEOHE 838.1, HI US   21.4234  -157.8015   \n",
      "2  USC00514830  KUALOA RANCH HEADQUARTERS 886.9, HI US   21.5213  -157.8374   \n",
      "3  USC00517948                       PEARL CITY, HI US   21.3934  -157.9751   \n",
      "4  USC00518838              UPPER WAHIAWA 874.3, HI US   21.4992  -158.0111   \n",
      "\n",
      "   elevation  \n",
      "0        3.0  \n",
      "1       14.6  \n",
      "2        7.0  \n",
      "3       11.9  \n",
      "4      306.6  \n"
     ]
    }
   ],
   "source": [
    "#print the df\n",
    "\n",
    "print(\"Measurements :\\n\",clean_hawaii_measurements.head() )\n",
    "print(\"===============================================\")\n",
    "print(\"Station :\\n\",hawaii_stations.head())\n",
    "#save to csv\n",
    "filepath=os.path.join(\"..\",\"Resources\",\"clean_hawaii_stations.csv\")\n",
    "hawaii_stations.to_csv(filepath,index=False)"
   ]
  },
  {
   "cell_type": "code",
   "execution_count": null,
   "metadata": {
    "collapsed": true
   },
   "outputs": [],
   "source": []
  }
 ],
 "metadata": {
  "kernelspec": {
   "display_name": "Python 3",
   "language": "python",
   "name": "python3"
  },
  "language_info": {
   "codemirror_mode": {
    "name": "ipython",
    "version": 3
   },
   "file_extension": ".py",
   "mimetype": "text/x-python",
   "name": "python",
   "nbconvert_exporter": "python",
   "pygments_lexer": "ipython3",
   "version": "3.6.3"
  }
 },
 "nbformat": 4,
 "nbformat_minor": 2
}
